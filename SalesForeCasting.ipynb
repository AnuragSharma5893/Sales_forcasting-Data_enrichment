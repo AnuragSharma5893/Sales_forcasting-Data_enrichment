{
  "nbformat": 4,
  "nbformat_minor": 0,
  "metadata": {
    "colab": {
      "provenance": [],
      "collapsed_sections": []
    },
    "kernelspec": {
      "name": "python3",
      "display_name": "Python 3"
    },
    "language_info": {
      "name": "python"
    }
  },
  "cells": [
    {
      "cell_type": "markdown",
      "source": [
        "1️⃣ Prepare input data"
      ],
      "metadata": {
        "id": "F02WL_OaSTE_"
      }
    },
    {
      "cell_type": "code",
      "execution_count": 1,
      "metadata": {
        "colab": {
          "base_uri": "https://localhost:8080/"
        },
        "id": "WkfZSUXGsB1O",
        "outputId": "7c8178f8-3e42-47ad-d8b5-c7cd6385ef67"
      },
      "outputs": [
        {
          "output_type": "stream",
          "name": "stdout",
          "text": [
            "\u001b[K     |████████████████████████████████| 74 kB 2.0 MB/s \n",
            "\u001b[K     |████████████████████████████████| 76.8 MB 1.3 MB/s \n",
            "\u001b[K     |████████████████████████████████| 1.5 MB 55.0 MB/s \n",
            "\u001b[K     |████████████████████████████████| 1.6 MB 43.8 MB/s \n",
            "\u001b[?25h"
          ]
        }
      ],
      "source": [
        "%pip install -Uq upgini catboost"
      ]
    },
    {
      "cell_type": "markdown",
      "source": [
        "2️⃣ Search new relevant features with FeaturesEnricher"
      ],
      "metadata": {
        "id": "Rxdckt0HtGcX"
      }
    },
    {
      "cell_type": "code",
      "source": [
        "from os.path import exists\n",
        "import pandas as pd\n",
        "\n",
        "df_path =\"train.csv.zip\" if exists(\"train.csv.zip\") else \"https://github.com/upgini/upgini/raw/main/notebooks/train.csv.zip\"\n",
        "df = pd.read_csv(df_path)\n",
        "df = df.sample(n=19_000 , random_state=0)\n",
        "df[\"store\"]= df[\"store\"].astype(str)\n",
        "df[\"item\"] = df[\"item\"].astype(str)\n",
        "\n",
        "df[\"date\"] = pd.to_datetime(df[\"date\"])\n",
        "\n",
        "df.sort_values(\"date\", inplace= True)\n",
        "df.reset_index(inplace= True , drop = True)\n",
        "df.head()"
      ],
      "metadata": {
        "colab": {
          "base_uri": "https://localhost:8080/",
          "height": 215
        },
        "id": "KT_JS8Ensooc",
        "outputId": "7b602e4a-db9d-44b8-d3df-d882d7d2e71c"
      },
      "execution_count": 12,
      "outputs": [
        {
          "output_type": "execute_result",
          "data": {
            "text/plain": [
              "        date store item  sales\n",
              "0 2013-01-01     7    5      5\n",
              "1 2013-01-01     4    9     19\n",
              "2 2013-01-01     1   33     37\n",
              "3 2013-01-01     3   41     14\n",
              "4 2013-01-01     5   24     26"
            ],
            "text/html": [
              "\n",
              "  <div id=\"df-65790e5b-40da-4889-968b-24f42f14fcb6\">\n",
              "    <div class=\"colab-df-container\">\n",
              "      <div>\n",
              "<style scoped>\n",
              "    .dataframe tbody tr th:only-of-type {\n",
              "        vertical-align: middle;\n",
              "    }\n",
              "\n",
              "    .dataframe tbody tr th {\n",
              "        vertical-align: top;\n",
              "    }\n",
              "\n",
              "    .dataframe thead th {\n",
              "        text-align: right;\n",
              "    }\n",
              "</style>\n",
              "<table border=\"1\" class=\"dataframe\">\n",
              "  <thead>\n",
              "    <tr style=\"text-align: right;\">\n",
              "      <th></th>\n",
              "      <th>date</th>\n",
              "      <th>store</th>\n",
              "      <th>item</th>\n",
              "      <th>sales</th>\n",
              "    </tr>\n",
              "  </thead>\n",
              "  <tbody>\n",
              "    <tr>\n",
              "      <th>0</th>\n",
              "      <td>2013-01-01</td>\n",
              "      <td>7</td>\n",
              "      <td>5</td>\n",
              "      <td>5</td>\n",
              "    </tr>\n",
              "    <tr>\n",
              "      <th>1</th>\n",
              "      <td>2013-01-01</td>\n",
              "      <td>4</td>\n",
              "      <td>9</td>\n",
              "      <td>19</td>\n",
              "    </tr>\n",
              "    <tr>\n",
              "      <th>2</th>\n",
              "      <td>2013-01-01</td>\n",
              "      <td>1</td>\n",
              "      <td>33</td>\n",
              "      <td>37</td>\n",
              "    </tr>\n",
              "    <tr>\n",
              "      <th>3</th>\n",
              "      <td>2013-01-01</td>\n",
              "      <td>3</td>\n",
              "      <td>41</td>\n",
              "      <td>14</td>\n",
              "    </tr>\n",
              "    <tr>\n",
              "      <th>4</th>\n",
              "      <td>2013-01-01</td>\n",
              "      <td>5</td>\n",
              "      <td>24</td>\n",
              "      <td>26</td>\n",
              "    </tr>\n",
              "  </tbody>\n",
              "</table>\n",
              "</div>\n",
              "      <button class=\"colab-df-convert\" onclick=\"convertToInteractive('df-65790e5b-40da-4889-968b-24f42f14fcb6')\"\n",
              "              title=\"Convert this dataframe to an interactive table.\"\n",
              "              style=\"display:none;\">\n",
              "        \n",
              "  <svg xmlns=\"http://www.w3.org/2000/svg\" height=\"24px\"viewBox=\"0 0 24 24\"\n",
              "       width=\"24px\">\n",
              "    <path d=\"M0 0h24v24H0V0z\" fill=\"none\"/>\n",
              "    <path d=\"M18.56 5.44l.94 2.06.94-2.06 2.06-.94-2.06-.94-.94-2.06-.94 2.06-2.06.94zm-11 1L8.5 8.5l.94-2.06 2.06-.94-2.06-.94L8.5 2.5l-.94 2.06-2.06.94zm10 10l.94 2.06.94-2.06 2.06-.94-2.06-.94-.94-2.06-.94 2.06-2.06.94z\"/><path d=\"M17.41 7.96l-1.37-1.37c-.4-.4-.92-.59-1.43-.59-.52 0-1.04.2-1.43.59L10.3 9.45l-7.72 7.72c-.78.78-.78 2.05 0 2.83L4 21.41c.39.39.9.59 1.41.59.51 0 1.02-.2 1.41-.59l7.78-7.78 2.81-2.81c.8-.78.8-2.07 0-2.86zM5.41 20L4 18.59l7.72-7.72 1.47 1.35L5.41 20z\"/>\n",
              "  </svg>\n",
              "      </button>\n",
              "      \n",
              "  <style>\n",
              "    .colab-df-container {\n",
              "      display:flex;\n",
              "      flex-wrap:wrap;\n",
              "      gap: 12px;\n",
              "    }\n",
              "\n",
              "    .colab-df-convert {\n",
              "      background-color: #E8F0FE;\n",
              "      border: none;\n",
              "      border-radius: 50%;\n",
              "      cursor: pointer;\n",
              "      display: none;\n",
              "      fill: #1967D2;\n",
              "      height: 32px;\n",
              "      padding: 0 0 0 0;\n",
              "      width: 32px;\n",
              "    }\n",
              "\n",
              "    .colab-df-convert:hover {\n",
              "      background-color: #E2EBFA;\n",
              "      box-shadow: 0px 1px 2px rgba(60, 64, 67, 0.3), 0px 1px 3px 1px rgba(60, 64, 67, 0.15);\n",
              "      fill: #174EA6;\n",
              "    }\n",
              "\n",
              "    [theme=dark] .colab-df-convert {\n",
              "      background-color: #3B4455;\n",
              "      fill: #D2E3FC;\n",
              "    }\n",
              "\n",
              "    [theme=dark] .colab-df-convert:hover {\n",
              "      background-color: #434B5C;\n",
              "      box-shadow: 0px 1px 3px 1px rgba(0, 0, 0, 0.15);\n",
              "      filter: drop-shadow(0px 1px 2px rgba(0, 0, 0, 0.3));\n",
              "      fill: #FFFFFF;\n",
              "    }\n",
              "  </style>\n",
              "\n",
              "      <script>\n",
              "        const buttonEl =\n",
              "          document.querySelector('#df-65790e5b-40da-4889-968b-24f42f14fcb6 button.colab-df-convert');\n",
              "        buttonEl.style.display =\n",
              "          google.colab.kernel.accessAllowed ? 'block' : 'none';\n",
              "\n",
              "        async function convertToInteractive(key) {\n",
              "          const element = document.querySelector('#df-65790e5b-40da-4889-968b-24f42f14fcb6');\n",
              "          const dataTable =\n",
              "            await google.colab.kernel.invokeFunction('convertToInteractive',\n",
              "                                                     [key], {});\n",
              "          if (!dataTable) return;\n",
              "\n",
              "          const docLinkHtml = 'Like what you see? Visit the ' +\n",
              "            '<a target=\"_blank\" href=https://colab.research.google.com/notebooks/data_table.ipynb>data table notebook</a>'\n",
              "            + ' to learn more about interactive tables.';\n",
              "          element.innerHTML = '';\n",
              "          dataTable['output_type'] = 'display_data';\n",
              "          await google.colab.output.renderOutput(dataTable, element);\n",
              "          const docLink = document.createElement('div');\n",
              "          docLink.innerHTML = docLinkHtml;\n",
              "          element.appendChild(docLink);\n",
              "        }\n",
              "      </script>\n",
              "    </div>\n",
              "  </div>\n",
              "  "
            ]
          },
          "metadata": {},
          "execution_count": 12
        }
      ]
    },
    {
      "cell_type": "code",
      "source": [
        "train = df[df[\"date\"] < \"2017-01-01\"]\n",
        "test = df[df[\"date\"] >= \"2017-01-01\"]"
      ],
      "metadata": {
        "id": "74w9f4aE1fQC"
      },
      "execution_count": 41,
      "outputs": []
    },
    {
      "cell_type": "code",
      "source": [
        "train_features = train.drop(columns=[\"sales\"])\n",
        "train_target = train[\"sales\"]\n",
        "test_features = test.drop(columns=[\"sales\"])\n",
        "test_target = test[\"sales\"]"
      ],
      "metadata": {
        "id": "kEZJyNzB1_lK"
      },
      "execution_count": 42,
      "outputs": []
    },
    {
      "cell_type": "markdown",
      "source": [
        "Enrich Features"
      ],
      "metadata": {
        "id": "Iz4pMfyK4_7K"
      }
    },
    {
      "cell_type": "code",
      "source": [
        "from upgini import FeaturesEnricher, SearchKey\n",
        "from upgini.metadata import CVType\n",
        "\n",
        "enricher = FeaturesEnricher(\n",
        "    search_keys = {\n",
        "      \"date\": SearchKey.DATE,\n",
        "    },\n",
        "    cv = CVType.time_series\n",
        ")\n",
        "enricher.fit(train_features,\n",
        "             train_target,\n",
        "             eval_set=[(test_features, test_target)]\n",
        ")"
      ],
      "metadata": {
        "colab": {
          "base_uri": "https://localhost:8080/",
          "height": 978
        },
        "id": "DCW5Ug_F48yP",
        "outputId": "28852227-8b56-4518-c99c-6476ee070973"
      },
      "execution_count": 46,
      "outputs": [
        {
          "output_type": "stream",
          "name": "stdout",
          "text": [
            "WARNING: You have started the search with the DATE key only. Try to add the COUNTRY and/or POSTAL_CODE keys to your dataset so that the search engine gets access to the additional data sources. Get details on https://github.com/upgini/upgini#readme\n",
            "Detected task type: ModelTaskType.REGRESSION\n"
          ]
        },
        {
          "output_type": "display_data",
          "data": {
            "text/plain": [
              "<IPython.core.display.HTML object>"
            ],
            "text/html": [
              "<table><tr><th style='font-weight:bold'>Column name</th><th style='font-weight:bold'>Status</th><th style='font-weight:bold'>Description</th></tr><tr><td>date</td><td style='background-color:#DAF7A6;color:black'>All valid</td><td>All values in this column are good to go</td></tr><tr><td>target</td><td style='background-color:#DAF7A6;color:black'>All valid</td><td>All values in this column are good to go</td></tr></table>"
            ]
          },
          "metadata": {}
        },
        {
          "output_type": "stream",
          "name": "stdout",
          "text": [
            "Running search request with search_id=53fb0bf7-e49f-4b98-90a2-5a0f081701b9\n",
            "We'll send email notification once it's completed, just use your personal api_key from profile.upgini.com\n",
            "Done\n",
            "\n",
            "\u001b[92m\u001b[1m\n",
            "28 relevant feature(s) found with the search keys: ['date'].\u001b[0m\n"
          ]
        },
        {
          "output_type": "display_data",
          "data": {
            "text/plain": [
              "                              feature_name  shap_value  coverage %       type\n",
              "0                                     item    0.487726       100.0  CHARACTER\n",
              "1                                    store    0.172106       100.0  CHARACTER\n",
              "2                 f_weather_pca_0_94efd18d    0.056047       100.0    NUMERIC\n",
              "3                     f_week_sin1_a71d22f6    0.044632       100.0    NUMERIC\n",
              "4                     f_week_cos1_d3d56d7f    0.029552       100.0    NUMERIC\n",
              "5               f_weather_umap_48_66a91289    0.025132       100.0    NUMERIC\n",
              "6               f_weather_umap_24_409427e4    0.019315       100.0    NUMERIC\n",
              "7               f_weather_umap_33_b9760f68    0.014638       100.0    NUMERIC\n",
              "8                     f_year_cos1_cd165f8c    0.012112       100.0    NUMERIC\n",
              "9                     f_dow_jones_89547e1d    0.007461       100.0    NUMERIC\n",
              "10              f_weather_umap_31_50ba2974    0.004600       100.0    NUMERIC\n",
              "11                       f_silver_d4264cf9    0.004597       100.0    NUMERIC\n",
              "12              f_weather_umap_43_4e9820c4    0.004291       100.0    NUMERIC\n",
              "13              f_weather_umap_35_436c04a5    0.004104       100.0    NUMERIC\n",
              "14               f_finance_umap_3_424d51ca    0.003752       100.0    NUMERIC\n",
              "15                       f_snp500_61d23988    0.003303       100.0    NUMERIC\n",
              "16                    f_cpi_pca_5_db7798a3    0.003016       100.0    NUMERIC\n",
              "17  f_dow_jones_7d_to_7d_1y_shift_9628c89b    0.002820       100.0    NUMERIC\n",
              "18                        f_stoxx_4ddb0c38    0.002752       100.0    NUMERIC\n",
              "19          f_payment_fraud_score_b6a9c12e    0.002202       100.0    NUMERIC\n",
              "20               f_italy_game_cnt_9cfcfe65    0.001993       100.0    NUMERIC\n",
              "21                       f_nasdaq_d309709a    0.001855       100.0    NUMERIC\n",
              "22              f_weather_umap_34_39fc3e94    0.001782       100.0    NUMERIC\n",
              "23                 f_cbpol_umap_1_34dc2149    0.001578       100.0    NUMERIC\n",
              "24                  f_cbpol_pca_3_2e94b9bf    0.001536       100.0    NUMERIC\n",
              "25              f_silver_7d_to_1y_82c4ef86    0.001454       100.0    NUMERIC\n",
              "26                 f_cbpol_umap_6_f175da9a    0.001432       100.0    NUMERIC\n",
              "27       f_mlending_approve_score_d4c33397    0.001374       100.0    NUMERIC\n",
              "28              f_weather_umap_45_b348f420    0.001316       100.0    NUMERIC\n",
              "29     f_silver_7d_to_7d_1y_shift_ccbd2abf    0.001241       100.0    NUMERIC"
            ],
            "text/html": [
              "\n",
              "  <div id=\"df-c9817b6a-53d9-49e3-8a7b-0f110d72a3e0\">\n",
              "    <div class=\"colab-df-container\">\n",
              "      <div>\n",
              "<style scoped>\n",
              "    .dataframe tbody tr th:only-of-type {\n",
              "        vertical-align: middle;\n",
              "    }\n",
              "\n",
              "    .dataframe tbody tr th {\n",
              "        vertical-align: top;\n",
              "    }\n",
              "\n",
              "    .dataframe thead th {\n",
              "        text-align: right;\n",
              "    }\n",
              "</style>\n",
              "<table border=\"1\" class=\"dataframe\">\n",
              "  <thead>\n",
              "    <tr style=\"text-align: right;\">\n",
              "      <th></th>\n",
              "      <th>feature_name</th>\n",
              "      <th>shap_value</th>\n",
              "      <th>coverage %</th>\n",
              "      <th>type</th>\n",
              "    </tr>\n",
              "  </thead>\n",
              "  <tbody>\n",
              "    <tr>\n",
              "      <th>0</th>\n",
              "      <td>item</td>\n",
              "      <td>0.487726</td>\n",
              "      <td>100.0</td>\n",
              "      <td>CHARACTER</td>\n",
              "    </tr>\n",
              "    <tr>\n",
              "      <th>1</th>\n",
              "      <td>store</td>\n",
              "      <td>0.172106</td>\n",
              "      <td>100.0</td>\n",
              "      <td>CHARACTER</td>\n",
              "    </tr>\n",
              "    <tr>\n",
              "      <th>2</th>\n",
              "      <td>f_weather_pca_0_94efd18d</td>\n",
              "      <td>0.056047</td>\n",
              "      <td>100.0</td>\n",
              "      <td>NUMERIC</td>\n",
              "    </tr>\n",
              "    <tr>\n",
              "      <th>3</th>\n",
              "      <td>f_week_sin1_a71d22f6</td>\n",
              "      <td>0.044632</td>\n",
              "      <td>100.0</td>\n",
              "      <td>NUMERIC</td>\n",
              "    </tr>\n",
              "    <tr>\n",
              "      <th>4</th>\n",
              "      <td>f_week_cos1_d3d56d7f</td>\n",
              "      <td>0.029552</td>\n",
              "      <td>100.0</td>\n",
              "      <td>NUMERIC</td>\n",
              "    </tr>\n",
              "    <tr>\n",
              "      <th>5</th>\n",
              "      <td>f_weather_umap_48_66a91289</td>\n",
              "      <td>0.025132</td>\n",
              "      <td>100.0</td>\n",
              "      <td>NUMERIC</td>\n",
              "    </tr>\n",
              "    <tr>\n",
              "      <th>6</th>\n",
              "      <td>f_weather_umap_24_409427e4</td>\n",
              "      <td>0.019315</td>\n",
              "      <td>100.0</td>\n",
              "      <td>NUMERIC</td>\n",
              "    </tr>\n",
              "    <tr>\n",
              "      <th>7</th>\n",
              "      <td>f_weather_umap_33_b9760f68</td>\n",
              "      <td>0.014638</td>\n",
              "      <td>100.0</td>\n",
              "      <td>NUMERIC</td>\n",
              "    </tr>\n",
              "    <tr>\n",
              "      <th>8</th>\n",
              "      <td>f_year_cos1_cd165f8c</td>\n",
              "      <td>0.012112</td>\n",
              "      <td>100.0</td>\n",
              "      <td>NUMERIC</td>\n",
              "    </tr>\n",
              "    <tr>\n",
              "      <th>9</th>\n",
              "      <td>f_dow_jones_89547e1d</td>\n",
              "      <td>0.007461</td>\n",
              "      <td>100.0</td>\n",
              "      <td>NUMERIC</td>\n",
              "    </tr>\n",
              "    <tr>\n",
              "      <th>10</th>\n",
              "      <td>f_weather_umap_31_50ba2974</td>\n",
              "      <td>0.004600</td>\n",
              "      <td>100.0</td>\n",
              "      <td>NUMERIC</td>\n",
              "    </tr>\n",
              "    <tr>\n",
              "      <th>11</th>\n",
              "      <td>f_silver_d4264cf9</td>\n",
              "      <td>0.004597</td>\n",
              "      <td>100.0</td>\n",
              "      <td>NUMERIC</td>\n",
              "    </tr>\n",
              "    <tr>\n",
              "      <th>12</th>\n",
              "      <td>f_weather_umap_43_4e9820c4</td>\n",
              "      <td>0.004291</td>\n",
              "      <td>100.0</td>\n",
              "      <td>NUMERIC</td>\n",
              "    </tr>\n",
              "    <tr>\n",
              "      <th>13</th>\n",
              "      <td>f_weather_umap_35_436c04a5</td>\n",
              "      <td>0.004104</td>\n",
              "      <td>100.0</td>\n",
              "      <td>NUMERIC</td>\n",
              "    </tr>\n",
              "    <tr>\n",
              "      <th>14</th>\n",
              "      <td>f_finance_umap_3_424d51ca</td>\n",
              "      <td>0.003752</td>\n",
              "      <td>100.0</td>\n",
              "      <td>NUMERIC</td>\n",
              "    </tr>\n",
              "    <tr>\n",
              "      <th>15</th>\n",
              "      <td>f_snp500_61d23988</td>\n",
              "      <td>0.003303</td>\n",
              "      <td>100.0</td>\n",
              "      <td>NUMERIC</td>\n",
              "    </tr>\n",
              "    <tr>\n",
              "      <th>16</th>\n",
              "      <td>f_cpi_pca_5_db7798a3</td>\n",
              "      <td>0.003016</td>\n",
              "      <td>100.0</td>\n",
              "      <td>NUMERIC</td>\n",
              "    </tr>\n",
              "    <tr>\n",
              "      <th>17</th>\n",
              "      <td>f_dow_jones_7d_to_7d_1y_shift_9628c89b</td>\n",
              "      <td>0.002820</td>\n",
              "      <td>100.0</td>\n",
              "      <td>NUMERIC</td>\n",
              "    </tr>\n",
              "    <tr>\n",
              "      <th>18</th>\n",
              "      <td>f_stoxx_4ddb0c38</td>\n",
              "      <td>0.002752</td>\n",
              "      <td>100.0</td>\n",
              "      <td>NUMERIC</td>\n",
              "    </tr>\n",
              "    <tr>\n",
              "      <th>19</th>\n",
              "      <td>f_payment_fraud_score_b6a9c12e</td>\n",
              "      <td>0.002202</td>\n",
              "      <td>100.0</td>\n",
              "      <td>NUMERIC</td>\n",
              "    </tr>\n",
              "    <tr>\n",
              "      <th>20</th>\n",
              "      <td>f_italy_game_cnt_9cfcfe65</td>\n",
              "      <td>0.001993</td>\n",
              "      <td>100.0</td>\n",
              "      <td>NUMERIC</td>\n",
              "    </tr>\n",
              "    <tr>\n",
              "      <th>21</th>\n",
              "      <td>f_nasdaq_d309709a</td>\n",
              "      <td>0.001855</td>\n",
              "      <td>100.0</td>\n",
              "      <td>NUMERIC</td>\n",
              "    </tr>\n",
              "    <tr>\n",
              "      <th>22</th>\n",
              "      <td>f_weather_umap_34_39fc3e94</td>\n",
              "      <td>0.001782</td>\n",
              "      <td>100.0</td>\n",
              "      <td>NUMERIC</td>\n",
              "    </tr>\n",
              "    <tr>\n",
              "      <th>23</th>\n",
              "      <td>f_cbpol_umap_1_34dc2149</td>\n",
              "      <td>0.001578</td>\n",
              "      <td>100.0</td>\n",
              "      <td>NUMERIC</td>\n",
              "    </tr>\n",
              "    <tr>\n",
              "      <th>24</th>\n",
              "      <td>f_cbpol_pca_3_2e94b9bf</td>\n",
              "      <td>0.001536</td>\n",
              "      <td>100.0</td>\n",
              "      <td>NUMERIC</td>\n",
              "    </tr>\n",
              "    <tr>\n",
              "      <th>25</th>\n",
              "      <td>f_silver_7d_to_1y_82c4ef86</td>\n",
              "      <td>0.001454</td>\n",
              "      <td>100.0</td>\n",
              "      <td>NUMERIC</td>\n",
              "    </tr>\n",
              "    <tr>\n",
              "      <th>26</th>\n",
              "      <td>f_cbpol_umap_6_f175da9a</td>\n",
              "      <td>0.001432</td>\n",
              "      <td>100.0</td>\n",
              "      <td>NUMERIC</td>\n",
              "    </tr>\n",
              "    <tr>\n",
              "      <th>27</th>\n",
              "      <td>f_mlending_approve_score_d4c33397</td>\n",
              "      <td>0.001374</td>\n",
              "      <td>100.0</td>\n",
              "      <td>NUMERIC</td>\n",
              "    </tr>\n",
              "    <tr>\n",
              "      <th>28</th>\n",
              "      <td>f_weather_umap_45_b348f420</td>\n",
              "      <td>0.001316</td>\n",
              "      <td>100.0</td>\n",
              "      <td>NUMERIC</td>\n",
              "    </tr>\n",
              "    <tr>\n",
              "      <th>29</th>\n",
              "      <td>f_silver_7d_to_7d_1y_shift_ccbd2abf</td>\n",
              "      <td>0.001241</td>\n",
              "      <td>100.0</td>\n",
              "      <td>NUMERIC</td>\n",
              "    </tr>\n",
              "  </tbody>\n",
              "</table>\n",
              "</div>\n",
              "      <button class=\"colab-df-convert\" onclick=\"convertToInteractive('df-c9817b6a-53d9-49e3-8a7b-0f110d72a3e0')\"\n",
              "              title=\"Convert this dataframe to an interactive table.\"\n",
              "              style=\"display:none;\">\n",
              "        \n",
              "  <svg xmlns=\"http://www.w3.org/2000/svg\" height=\"24px\"viewBox=\"0 0 24 24\"\n",
              "       width=\"24px\">\n",
              "    <path d=\"M0 0h24v24H0V0z\" fill=\"none\"/>\n",
              "    <path d=\"M18.56 5.44l.94 2.06.94-2.06 2.06-.94-2.06-.94-.94-2.06-.94 2.06-2.06.94zm-11 1L8.5 8.5l.94-2.06 2.06-.94-2.06-.94L8.5 2.5l-.94 2.06-2.06.94zm10 10l.94 2.06.94-2.06 2.06-.94-2.06-.94-.94-2.06-.94 2.06-2.06.94z\"/><path d=\"M17.41 7.96l-1.37-1.37c-.4-.4-.92-.59-1.43-.59-.52 0-1.04.2-1.43.59L10.3 9.45l-7.72 7.72c-.78.78-.78 2.05 0 2.83L4 21.41c.39.39.9.59 1.41.59.51 0 1.02-.2 1.41-.59l7.78-7.78 2.81-2.81c.8-.78.8-2.07 0-2.86zM5.41 20L4 18.59l7.72-7.72 1.47 1.35L5.41 20z\"/>\n",
              "  </svg>\n",
              "      </button>\n",
              "      \n",
              "  <style>\n",
              "    .colab-df-container {\n",
              "      display:flex;\n",
              "      flex-wrap:wrap;\n",
              "      gap: 12px;\n",
              "    }\n",
              "\n",
              "    .colab-df-convert {\n",
              "      background-color: #E8F0FE;\n",
              "      border: none;\n",
              "      border-radius: 50%;\n",
              "      cursor: pointer;\n",
              "      display: none;\n",
              "      fill: #1967D2;\n",
              "      height: 32px;\n",
              "      padding: 0 0 0 0;\n",
              "      width: 32px;\n",
              "    }\n",
              "\n",
              "    .colab-df-convert:hover {\n",
              "      background-color: #E2EBFA;\n",
              "      box-shadow: 0px 1px 2px rgba(60, 64, 67, 0.3), 0px 1px 3px 1px rgba(60, 64, 67, 0.15);\n",
              "      fill: #174EA6;\n",
              "    }\n",
              "\n",
              "    [theme=dark] .colab-df-convert {\n",
              "      background-color: #3B4455;\n",
              "      fill: #D2E3FC;\n",
              "    }\n",
              "\n",
              "    [theme=dark] .colab-df-convert:hover {\n",
              "      background-color: #434B5C;\n",
              "      box-shadow: 0px 1px 3px 1px rgba(0, 0, 0, 0.15);\n",
              "      filter: drop-shadow(0px 1px 2px rgba(0, 0, 0, 0.3));\n",
              "      fill: #FFFFFF;\n",
              "    }\n",
              "  </style>\n",
              "\n",
              "      <script>\n",
              "        const buttonEl =\n",
              "          document.querySelector('#df-c9817b6a-53d9-49e3-8a7b-0f110d72a3e0 button.colab-df-convert');\n",
              "        buttonEl.style.display =\n",
              "          google.colab.kernel.accessAllowed ? 'block' : 'none';\n",
              "\n",
              "        async function convertToInteractive(key) {\n",
              "          const element = document.querySelector('#df-c9817b6a-53d9-49e3-8a7b-0f110d72a3e0');\n",
              "          const dataTable =\n",
              "            await google.colab.kernel.invokeFunction('convertToInteractive',\n",
              "                                                     [key], {});\n",
              "          if (!dataTable) return;\n",
              "\n",
              "          const docLinkHtml = 'Like what you see? Visit the ' +\n",
              "            '<a target=\"_blank\" href=https://colab.research.google.com/notebooks/data_table.ipynb>data table notebook</a>'\n",
              "            + ' to learn more about interactive tables.';\n",
              "          element.innerHTML = '';\n",
              "          dataTable['output_type'] = 'display_data';\n",
              "          await google.colab.output.renderOutput(dataTable, element);\n",
              "          const docLink = document.createElement('div');\n",
              "          docLink.innerHTML = docLinkHtml;\n",
              "          element.appendChild(docLink);\n",
              "        }\n",
              "      </script>\n",
              "    </div>\n",
              "  </div>\n",
              "  "
            ]
          },
          "metadata": {}
        }
      ]
    },
    {
      "cell_type": "code",
      "source": [
        "from upgini.metadata import CVType\n",
        "enricher = FeaturesEnricher(\n",
        "\tsearch_keys={\"sales_date\": SearchKey.DATE},\n",
        "\tcv=CVType.time_series\n",
        ")"
      ],
      "metadata": {
        "id": "KmDIIrpJCELf"
      },
      "execution_count": 54,
      "outputs": []
    },
    {
      "cell_type": "code",
      "source": [
        "%pip install upgini"
      ],
      "metadata": {
        "colab": {
          "base_uri": "https://localhost:8080/"
        },
        "id": "j3xEuoNCHQDN",
        "outputId": "2af6cccd-ecc5-48e9-9789-5dd3ee88ec07"
      },
      "execution_count": 58,
      "outputs": [
        {
          "output_type": "stream",
          "name": "stdout",
          "text": [
            "Looking in indexes: https://pypi.org/simple, https://us-python.pkg.dev/colab-wheels/public/simple/\n",
            "Requirement already satisfied: upgini in /usr/local/lib/python3.7/dist-packages (1.1.36)\n",
            "Requirement already satisfied: fastparquet>=0.7.1 in /usr/local/lib/python3.7/dist-packages (from upgini) (0.8.1)\n",
            "Requirement already satisfied: catboost>=1.0.3 in /usr/local/lib/python3.7/dist-packages (from upgini) (1.1)\n",
            "Requirement already satisfied: numpy>=1.19.0 in /usr/local/lib/python3.7/dist-packages (from upgini) (1.21.6)\n",
            "Requirement already satisfied: requests>=2.8.0 in /usr/local/lib/python3.7/dist-packages (from upgini) (2.23.0)\n",
            "Requirement already satisfied: python-dateutil>=2.8.0 in /usr/local/lib/python3.7/dist-packages (from upgini) (2.8.2)\n",
            "Requirement already satisfied: python-json-logger>=2.0.2 in /usr/local/lib/python3.7/dist-packages (from upgini) (2.0.4)\n",
            "Requirement already satisfied: pydantic>=1.8.2 in /usr/local/lib/python3.7/dist-packages (from upgini) (1.9.2)\n",
            "Requirement already satisfied: pandas>=1.1.0 in /usr/local/lib/python3.7/dist-packages (from upgini) (1.3.5)\n",
            "Requirement already satisfied: scikit-learn>=1.0.1 in /usr/local/lib/python3.7/dist-packages (from upgini) (1.0.2)\n",
            "Requirement already satisfied: scipy in /usr/local/lib/python3.7/dist-packages (from catboost>=1.0.3->upgini) (1.7.3)\n",
            "Requirement already satisfied: six in /usr/local/lib/python3.7/dist-packages (from catboost>=1.0.3->upgini) (1.15.0)\n",
            "Requirement already satisfied: graphviz in /usr/local/lib/python3.7/dist-packages (from catboost>=1.0.3->upgini) (0.10.1)\n",
            "Requirement already satisfied: matplotlib in /usr/local/lib/python3.7/dist-packages (from catboost>=1.0.3->upgini) (3.2.2)\n",
            "Requirement already satisfied: plotly in /usr/local/lib/python3.7/dist-packages (from catboost>=1.0.3->upgini) (5.5.0)\n",
            "Requirement already satisfied: fsspec in /usr/local/lib/python3.7/dist-packages (from fastparquet>=0.7.1->upgini) (2022.8.2)\n",
            "Requirement already satisfied: cramjam>=2.3.0 in /usr/local/lib/python3.7/dist-packages (from fastparquet>=0.7.1->upgini) (2.5.0)\n",
            "Requirement already satisfied: pytz>=2017.3 in /usr/local/lib/python3.7/dist-packages (from pandas>=1.1.0->upgini) (2022.4)\n",
            "Requirement already satisfied: typing-extensions>=3.7.4.3 in /usr/local/lib/python3.7/dist-packages (from pydantic>=1.8.2->upgini) (4.1.1)\n",
            "Requirement already satisfied: chardet<4,>=3.0.2 in /usr/local/lib/python3.7/dist-packages (from requests>=2.8.0->upgini) (3.0.4)\n",
            "Requirement already satisfied: certifi>=2017.4.17 in /usr/local/lib/python3.7/dist-packages (from requests>=2.8.0->upgini) (2022.9.24)\n",
            "Requirement already satisfied: urllib3!=1.25.0,!=1.25.1,<1.26,>=1.21.1 in /usr/local/lib/python3.7/dist-packages (from requests>=2.8.0->upgini) (1.24.3)\n",
            "Requirement already satisfied: idna<3,>=2.5 in /usr/local/lib/python3.7/dist-packages (from requests>=2.8.0->upgini) (2.10)\n",
            "Requirement already satisfied: threadpoolctl>=2.0.0 in /usr/local/lib/python3.7/dist-packages (from scikit-learn>=1.0.1->upgini) (3.1.0)\n",
            "Requirement already satisfied: joblib>=0.11 in /usr/local/lib/python3.7/dist-packages (from scikit-learn>=1.0.1->upgini) (1.2.0)\n",
            "Requirement already satisfied: cycler>=0.10 in /usr/local/lib/python3.7/dist-packages (from matplotlib->catboost>=1.0.3->upgini) (0.11.0)\n",
            "Requirement already satisfied: kiwisolver>=1.0.1 in /usr/local/lib/python3.7/dist-packages (from matplotlib->catboost>=1.0.3->upgini) (1.4.4)\n",
            "Requirement already satisfied: pyparsing!=2.0.4,!=2.1.2,!=2.1.6,>=2.0.1 in /usr/local/lib/python3.7/dist-packages (from matplotlib->catboost>=1.0.3->upgini) (3.0.9)\n",
            "Requirement already satisfied: tenacity>=6.2.0 in /usr/local/lib/python3.7/dist-packages (from plotly->catboost>=1.0.3->upgini) (8.1.0)\n"
          ]
        }
      ]
    },
    {
      "cell_type": "code",
      "source": [
        "from upgini.metadata import CVType\n",
        "enricher = FeaturesEnricher(\n",
        "\tsearch_keys={\"sales_date\": SearchKey.DATE},\n",
        "\tcv=CVType.time_series\n",
        ")"
      ],
      "metadata": {
        "id": "uw4dmg5mM_ue"
      },
      "execution_count": 66,
      "outputs": []
    },
    {
      "cell_type": "code",
      "source": [
        "from upgini import ModelTaskType\n",
        "enricher = FeaturesEnricher(\n",
        "\tsearch_keys={\"subscription_activation_date\": SearchKey.DATE},\n",
        "\tmodel_task_type=ModelTaskType.REGRESSION\n",
        ")"
      ],
      "metadata": {
        "id": "M5DcloCdN2sd"
      },
      "execution_count": 67,
      "outputs": []
    },
    {
      "cell_type": "code",
      "source": [
        "import numpy as np\n",
        "from catboost import Pool, CatBoostRegressor\n",
        "# initialize data\n",
        "train_data = np.random.randint(0, \n",
        "                               100, \n",
        "                               size=(100, 10))\n",
        "train_label = np.random.randint(0, \n",
        "                                1000, \n",
        "                                size=(100))\n",
        "test_data = np.random.randint(0, \n",
        "                              100, \n",
        "                              size=(50, 10))\n",
        "# initialize Pool\n",
        "train_pool = Pool(train_data, \n",
        "                  train_label, \n",
        "                  cat_features=[0,2,5])\n",
        "test_pool = Pool(test_data, \n",
        "                 cat_features=[0,2,5]) \n",
        "\n",
        "# specify the training parameters \n",
        "model = CatBoostRegressor(iterations=2, \n",
        "                          depth=2, \n",
        "                          learning_rate=1, \n",
        "                          loss_function='RMSE')\n",
        "#train the model\n",
        "model.fit(train_pool)\n",
        "# make the prediction using the resulting model\n",
        "preds = model.predict(test_pool)\n",
        "print(preds)\n"
      ],
      "metadata": {
        "colab": {
          "base_uri": "https://localhost:8080/"
        },
        "id": "B9KTd93OOEwH",
        "outputId": "ae543b38-bb60-482b-d05b-4db61e03fb6f"
      },
      "execution_count": 70,
      "outputs": [
        {
          "output_type": "stream",
          "name": "stdout",
          "text": [
            "0:\tlearn: 292.3990486\ttotal: 847us\tremaining: 847us\n",
            "1:\tlearn: 288.8401734\ttotal: 2.34ms\tremaining: 0us\n",
            "[596.7818746  462.69141328 511.71789713 338.4496672  511.71789713\n",
            " 511.71789713 696.45721443 511.71789713 511.71789713 596.7818746\n",
            " 511.71789713 596.7818746  572.47335993 387.47615105 511.71789713\n",
            " 511.71789713 511.71789713 511.71789713 462.69141328 511.71789713\n",
            " 511.71789713 572.47335993 572.47335993 596.7818746  596.7818746\n",
            " 511.71789713 511.71789713 511.71789713 511.71789713 448.23161385\n",
            " 511.71789713 511.71789713 572.47335993 572.47335993 696.45721443\n",
            " 511.71789713 572.47335993 511.71789713 511.71789713 387.47615105\n",
            " 472.54012852 511.71789713 596.7818746  596.7818746  596.7818746\n",
            " 511.71789713 596.7818746  511.71789713 572.47335993 511.71789713]\n"
          ]
        }
      ]
    },
    {
      "cell_type": "markdown",
      "source": [
        "3️⃣ Calculate model metrics and uplift from new relevant features\n",
        "\n",
        "We can use any model estimator with scikit-learn compatible interface. Let's take CatBoost regressor.\n",
        "For evaluation metric there are two options:\n",
        "\n",
        "--->Predefined evaluation function alias from Upgini library, like RMSLE for Root Mean Squared Logarithmic Error\n",
        "\n",
        "--->Define custom evaluation function using scikit-learn make_scorer, for example SMAPE\n",
        "\n",
        "Model evaluation metric both for train and validation datasets will be calculated with the same cross-validation strategy as for FeaturesEnricher.fit()- in this example time series CV."
      ],
      "metadata": {
        "id": "iWtxXXdNRbk-"
      }
    },
    {
      "cell_type": "code",
      "source": [
        "from catboost import CatBoostRegressor\n",
        "from catboost.utils import eval_metric\n",
        "model = CatBoostRegressor(verbose=False, allow_writing_files=False, random_state=0)\n",
        "\n",
        "# Calculate metrics before and after enrichment with new relevant features\n",
        "enricher.calculate_metrics(\n",
        "    train_features, train_target, \n",
        "    eval_set = [(test_features, test_target)],\n",
        "    estimator = model,\n",
        "    scoring = \"mean_absolute_percentage_error\"\n",
        ")"
      ],
      "metadata": {
        "id": "reUTDy3MQIlQ"
      },
      "execution_count": 71,
      "outputs": []
    },
    {
      "cell_type": "markdown",
      "source": [
        "4️⃣ Enrich datasets with the new features and retrain model"
      ],
      "metadata": {
        "id": "kYyUikLpR4qa"
      }
    },
    {
      "cell_type": "code",
      "source": [
        "enriched_train_features = enricher.transform(train_features, keep_input = True)\n",
        "enriched_test_features = enricher.transform(test_features, keep_input = True)\n",
        "enriched_train_features.head()"
      ],
      "metadata": {
        "id": "PKpeW52ARK0k"
      },
      "execution_count": null,
      "outputs": []
    },
    {
      "cell_type": "markdown",
      "source": [
        "BEFORE enrichment with the new features:"
      ],
      "metadata": {
        "id": "FKFONZzTSAAO"
      }
    },
    {
      "cell_type": "code",
      "source": [
        "model.fit(train_features, train_target)\n",
        "preds = model.predict(test_features)\n",
        "eval_metric(test_target.values, preds, \"SMAPE\")"
      ],
      "metadata": {
        "id": "yBu6Gb7rRVYm"
      },
      "execution_count": null,
      "outputs": []
    },
    {
      "cell_type": "markdown",
      "source": [
        "AFTER enrichment with the new features:"
      ],
      "metadata": {
        "id": "fH1zChGeSJvg"
      }
    },
    {
      "cell_type": "code",
      "source": [
        "model.fit(enriched_train_features, train_target)\n",
        "enriched_preds = model.predict(enriched_test_features)\n",
        "eval_metric(test_target.values, enriched_preds, \"SMAPE\")"
      ],
      "metadata": {
        "id": "PVgdPWV_THn7"
      },
      "execution_count": null,
      "outputs": []
    }
  ]
}